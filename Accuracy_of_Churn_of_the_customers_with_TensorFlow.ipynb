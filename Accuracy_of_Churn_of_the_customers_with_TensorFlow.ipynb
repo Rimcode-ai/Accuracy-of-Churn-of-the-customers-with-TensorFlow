{
  "nbformat": 4,
  "nbformat_minor": 0,
  "metadata": {
    "colab": {
      "provenance": [],
      "authorship_tag": "ABX9TyNfj+bof2/282c/qtAwxpFH",
      "include_colab_link": true
    },
    "kernelspec": {
      "name": "python3",
      "display_name": "Python 3"
    },
    "language_info": {
      "name": "python"
    }
  },
  "cells": [
    {
      "cell_type": "markdown",
      "metadata": {
        "id": "view-in-github",
        "colab_type": "text"
      },
      "source": [
        "<a href=\"https://colab.research.google.com/github/Rimcode-ai/Accuracy-of-Churn-of-the-customers-with-TensorFlow/blob/main/Accuracy_of_Churn_of_the_customers_with_TensorFlow.ipynb\" target=\"_parent\"><img src=\"https://colab.research.google.com/assets/colab-badge.svg\" alt=\"Open In Colab\"/></a>"
      ]
    },
    {
      "cell_type": "markdown",
      "source": [
        "**Import Data**"
      ],
      "metadata": {
        "id": "9lMalxxtVaHS"
      }
    },
    {
      "cell_type": "code",
      "execution_count": null,
      "metadata": {
        "id": "Unole_8qTRtV"
      },
      "outputs": [],
      "source": [
        "import pandas as pd\n",
        "from sklearn.model_selection import train_test_split"
      ]
    },
    {
      "cell_type": "code",
      "source": [
        "df = pd.read_csv('Churn.csv')"
      ],
      "metadata": {
        "id": "aIJI8A9LVWFu"
      },
      "execution_count": null,
      "outputs": []
    },
    {
      "cell_type": "code",
      "source": [
        "X = pd.get_dummies(df.drop(['Churn', 'Customer ID'], axis=1)).astype(np.float32)\n",
        "y = df['Churn'].apply(lambda x: 1 if x == 'Yes' else 0).astype(np.float32)"
      ],
      "metadata": {
        "id": "7fhzpxoSVfaj"
      },
      "execution_count": null,
      "outputs": []
    },
    {
      "cell_type": "code",
      "source": [
        "X_train, X_test, y_train, y_test = train_test_split(X, y, test_size=0.2, random_state=42)\n"
      ],
      "metadata": {
        "id": "6mTevvAgViDS"
      },
      "execution_count": null,
      "outputs": []
    },
    {
      "cell_type": "code",
      "source": [
        "\n",
        "y_train.head()"
      ],
      "metadata": {
        "colab": {
          "base_uri": "https://localhost:8080/"
        },
        "id": "JdQozSN4Vj8l",
        "outputId": "ac7ab38a-4402-47a9-e69f-db53c1d4d122"
      },
      "execution_count": null,
      "outputs": [
        {
          "output_type": "execute_result",
          "data": {
            "text/plain": [
              "1161    0.0\n",
              "3780    1.0\n",
              "3044    1.0\n",
              "4085    1.0\n",
              "1362    1.0\n",
              "Name: Churn, dtype: float32"
            ]
          },
          "metadata": {},
          "execution_count": 35
        }
      ]
    },
    {
      "cell_type": "markdown",
      "source": [
        "**Import Dependencies**"
      ],
      "metadata": {
        "id": "0IkRkU1OV2al"
      }
    },
    {
      "cell_type": "code",
      "source": [
        "from tensorflow.keras.models import Sequential\n",
        "from tensorflow.keras.layers import Dense\n",
        "from sklearn.metrics import accuracy_score"
      ],
      "metadata": {
        "id": "ZmMjt0-DV4cn"
      },
      "execution_count": null,
      "outputs": []
    },
    {
      "cell_type": "code",
      "source": [
        "model = Sequential([\n",
        "    Dense(units=32, activation='relu', input_dim=len(X_train.columns)),\n",
        "    Dense(units=64, activation='relu'),\n",
        "    Dense(units=1, activation='sigmoid')\n",
        "])"
      ],
      "metadata": {
        "id": "y8B-dHtjXsL5"
      },
      "execution_count": null,
      "outputs": []
    },
    {
      "cell_type": "code",
      "source": [
        "model.compile(loss='binary_crossentropy', optimizer='sgd', metrics=['accuracy'])\n"
      ],
      "metadata": {
        "id": "w63A3M1WV6ty"
      },
      "execution_count": null,
      "outputs": []
    },
    {
      "cell_type": "code",
      "source": [
        "model.fit(X_train, y_train, epochs=200, batch_size=32)"
      ],
      "metadata": {
        "colab": {
          "base_uri": "https://localhost:8080/"
        },
        "id": "s2kbjmTqV8h7",
        "outputId": "1abe29e9-8b6b-4661-81b4-dabb302a1cf8"
      },
      "execution_count": null,
      "outputs": [
        {
          "output_type": "stream",
          "name": "stdout",
          "text": [
            "Epoch 1/200\n",
            "177/177 [==============================] - 2s 5ms/step - loss: 0.5090 - accuracy: 0.7558\n",
            "Epoch 2/200\n",
            "177/177 [==============================] - 1s 5ms/step - loss: 0.4953 - accuracy: 0.7649\n",
            "Epoch 3/200\n",
            "177/177 [==============================] - 1s 7ms/step - loss: 0.4857 - accuracy: 0.7741\n",
            "Epoch 4/200\n",
            "177/177 [==============================] - 1s 7ms/step - loss: 0.4819 - accuracy: 0.7723\n",
            "Epoch 5/200\n",
            "177/177 [==============================] - 1s 5ms/step - loss: 0.4807 - accuracy: 0.7785\n",
            "Epoch 6/200\n",
            "177/177 [==============================] - 1s 6ms/step - loss: 0.4774 - accuracy: 0.7821\n",
            "Epoch 7/200\n",
            "177/177 [==============================] - 1s 7ms/step - loss: 0.4752 - accuracy: 0.7771\n",
            "Epoch 8/200\n",
            "177/177 [==============================] - 1s 6ms/step - loss: 0.4725 - accuracy: 0.7803\n",
            "Epoch 9/200\n",
            "177/177 [==============================] - 1s 5ms/step - loss: 0.4712 - accuracy: 0.7817\n",
            "Epoch 10/200\n",
            "177/177 [==============================] - 1s 4ms/step - loss: 0.4708 - accuracy: 0.7789\n",
            "Epoch 11/200\n",
            "177/177 [==============================] - 1s 5ms/step - loss: 0.4686 - accuracy: 0.7801\n",
            "Epoch 12/200\n",
            "177/177 [==============================] - 1s 5ms/step - loss: 0.4654 - accuracy: 0.7799\n",
            "Epoch 13/200\n",
            "177/177 [==============================] - 1s 4ms/step - loss: 0.4643 - accuracy: 0.7799\n",
            "Epoch 14/200\n",
            "177/177 [==============================] - 1s 4ms/step - loss: 0.4642 - accuracy: 0.7771\n",
            "Epoch 15/200\n",
            "177/177 [==============================] - 1s 4ms/step - loss: 0.4644 - accuracy: 0.7769\n",
            "Epoch 16/200\n",
            "177/177 [==============================] - 1s 6ms/step - loss: 0.4601 - accuracy: 0.7830\n",
            "Epoch 17/200\n",
            "177/177 [==============================] - 1s 7ms/step - loss: 0.4607 - accuracy: 0.7807\n",
            "Epoch 18/200\n",
            "177/177 [==============================] - 1s 6ms/step - loss: 0.4605 - accuracy: 0.7833\n",
            "Epoch 19/200\n",
            "177/177 [==============================] - 1s 4ms/step - loss: 0.4573 - accuracy: 0.7844\n",
            "Epoch 20/200\n",
            "177/177 [==============================] - 1s 4ms/step - loss: 0.4572 - accuracy: 0.7837\n",
            "Epoch 21/200\n",
            "177/177 [==============================] - 1s 4ms/step - loss: 0.4548 - accuracy: 0.7849\n",
            "Epoch 22/200\n",
            "177/177 [==============================] - 1s 4ms/step - loss: 0.4574 - accuracy: 0.7837\n",
            "Epoch 23/200\n",
            "177/177 [==============================] - 1s 4ms/step - loss: 0.4577 - accuracy: 0.7826\n",
            "Epoch 24/200\n",
            "177/177 [==============================] - 1s 4ms/step - loss: 0.4538 - accuracy: 0.7828\n",
            "Epoch 25/200\n",
            "177/177 [==============================] - 1s 4ms/step - loss: 0.4541 - accuracy: 0.7823\n",
            "Epoch 26/200\n",
            "177/177 [==============================] - 1s 4ms/step - loss: 0.4530 - accuracy: 0.7858\n",
            "Epoch 27/200\n",
            "177/177 [==============================] - 1s 4ms/step - loss: 0.4526 - accuracy: 0.7844\n",
            "Epoch 28/200\n",
            "177/177 [==============================] - 1s 4ms/step - loss: 0.4515 - accuracy: 0.7833\n",
            "Epoch 29/200\n",
            "177/177 [==============================] - 1s 4ms/step - loss: 0.4557 - accuracy: 0.7837\n",
            "Epoch 30/200\n",
            "177/177 [==============================] - 1s 5ms/step - loss: 0.4510 - accuracy: 0.7851\n",
            "Epoch 31/200\n",
            "177/177 [==============================] - 1s 4ms/step - loss: 0.4511 - accuracy: 0.7839\n",
            "Epoch 32/200\n",
            "177/177 [==============================] - 1s 7ms/step - loss: 0.4487 - accuracy: 0.7854\n",
            "Epoch 33/200\n",
            "177/177 [==============================] - 1s 7ms/step - loss: 0.4493 - accuracy: 0.7860\n",
            "Epoch 34/200\n",
            "177/177 [==============================] - 1s 6ms/step - loss: 0.4499 - accuracy: 0.7831\n",
            "Epoch 35/200\n",
            "177/177 [==============================] - 1s 4ms/step - loss: 0.4499 - accuracy: 0.7853\n",
            "Epoch 36/200\n",
            "177/177 [==============================] - 1s 4ms/step - loss: 0.4494 - accuracy: 0.7858\n",
            "Epoch 37/200\n",
            "177/177 [==============================] - 1s 4ms/step - loss: 0.4458 - accuracy: 0.7878\n",
            "Epoch 38/200\n",
            "177/177 [==============================] - 1s 4ms/step - loss: 0.4468 - accuracy: 0.7863\n",
            "Epoch 39/200\n",
            "177/177 [==============================] - 1s 4ms/step - loss: 0.4472 - accuracy: 0.7863\n",
            "Epoch 40/200\n",
            "177/177 [==============================] - 1s 4ms/step - loss: 0.4465 - accuracy: 0.7863\n",
            "Epoch 41/200\n",
            "177/177 [==============================] - 1s 4ms/step - loss: 0.4458 - accuracy: 0.7886\n",
            "Epoch 42/200\n",
            "177/177 [==============================] - 1s 4ms/step - loss: 0.4488 - accuracy: 0.7847\n",
            "Epoch 43/200\n",
            "177/177 [==============================] - 1s 4ms/step - loss: 0.4469 - accuracy: 0.7853\n",
            "Epoch 44/200\n",
            "177/177 [==============================] - 1s 4ms/step - loss: 0.4458 - accuracy: 0.7876\n",
            "Epoch 45/200\n",
            "177/177 [==============================] - 1s 4ms/step - loss: 0.4450 - accuracy: 0.7846\n",
            "Epoch 46/200\n",
            "177/177 [==============================] - 1s 4ms/step - loss: 0.4480 - accuracy: 0.7874\n",
            "Epoch 47/200\n",
            "177/177 [==============================] - 1s 5ms/step - loss: 0.4469 - accuracy: 0.7842\n",
            "Epoch 48/200\n",
            "177/177 [==============================] - 1s 7ms/step - loss: 0.4427 - accuracy: 0.7881\n",
            "Epoch 49/200\n",
            "177/177 [==============================] - 1s 7ms/step - loss: 0.4433 - accuracy: 0.7863\n",
            "Epoch 50/200\n",
            "177/177 [==============================] - 1s 5ms/step - loss: 0.4410 - accuracy: 0.7860\n",
            "Epoch 51/200\n",
            "177/177 [==============================] - 1s 4ms/step - loss: 0.4421 - accuracy: 0.7878\n",
            "Epoch 52/200\n",
            "177/177 [==============================] - 1s 5ms/step - loss: 0.4423 - accuracy: 0.7869\n",
            "Epoch 53/200\n",
            "177/177 [==============================] - 1s 5ms/step - loss: 0.4431 - accuracy: 0.7870\n",
            "Epoch 54/200\n",
            "177/177 [==============================] - 1s 4ms/step - loss: 0.4426 - accuracy: 0.7851\n",
            "Epoch 55/200\n",
            "177/177 [==============================] - 1s 5ms/step - loss: 0.4498 - accuracy: 0.7854\n",
            "Epoch 56/200\n",
            "177/177 [==============================] - 1s 4ms/step - loss: 0.4437 - accuracy: 0.7858\n",
            "Epoch 57/200\n",
            "177/177 [==============================] - 1s 4ms/step - loss: 0.4524 - accuracy: 0.7876\n",
            "Epoch 58/200\n",
            "177/177 [==============================] - 1s 5ms/step - loss: 0.4479 - accuracy: 0.7901\n",
            "Epoch 59/200\n",
            "177/177 [==============================] - 1s 5ms/step - loss: 0.4460 - accuracy: 0.7854\n",
            "Epoch 60/200\n",
            "177/177 [==============================] - 1s 4ms/step - loss: 0.4434 - accuracy: 0.7870\n",
            "Epoch 61/200\n",
            "177/177 [==============================] - 1s 4ms/step - loss: 0.4396 - accuracy: 0.7908\n",
            "Epoch 62/200\n",
            "177/177 [==============================] - 1s 5ms/step - loss: 0.4382 - accuracy: 0.7863\n",
            "Epoch 63/200\n",
            "177/177 [==============================] - 1s 7ms/step - loss: 0.4379 - accuracy: 0.7913\n",
            "Epoch 64/200\n",
            "177/177 [==============================] - 1s 7ms/step - loss: 0.4414 - accuracy: 0.7890\n",
            "Epoch 65/200\n",
            "177/177 [==============================] - 1s 4ms/step - loss: 0.4392 - accuracy: 0.7908\n",
            "Epoch 66/200\n",
            "177/177 [==============================] - 1s 4ms/step - loss: 0.4405 - accuracy: 0.7904\n",
            "Epoch 67/200\n",
            "177/177 [==============================] - 1s 4ms/step - loss: 0.4354 - accuracy: 0.7950\n",
            "Epoch 68/200\n",
            "177/177 [==============================] - 1s 4ms/step - loss: 0.4398 - accuracy: 0.7956\n",
            "Epoch 69/200\n",
            "177/177 [==============================] - 1s 4ms/step - loss: 0.4358 - accuracy: 0.7904\n",
            "Epoch 70/200\n",
            "177/177 [==============================] - 1s 4ms/step - loss: 0.4377 - accuracy: 0.7931\n",
            "Epoch 71/200\n",
            "177/177 [==============================] - 1s 4ms/step - loss: 0.4370 - accuracy: 0.7934\n",
            "Epoch 72/200\n",
            "177/177 [==============================] - 1s 4ms/step - loss: 0.4386 - accuracy: 0.7899\n",
            "Epoch 73/200\n",
            "177/177 [==============================] - 1s 4ms/step - loss: 0.4481 - accuracy: 0.7879\n",
            "Epoch 74/200\n",
            "177/177 [==============================] - 1s 4ms/step - loss: 0.4412 - accuracy: 0.7886\n",
            "Epoch 75/200\n",
            "177/177 [==============================] - 1s 4ms/step - loss: 0.4399 - accuracy: 0.7894\n",
            "Epoch 76/200\n",
            "177/177 [==============================] - 1s 4ms/step - loss: 0.4354 - accuracy: 0.7876\n",
            "Epoch 77/200\n",
            "177/177 [==============================] - 1s 4ms/step - loss: 0.4349 - accuracy: 0.7892\n",
            "Epoch 78/200\n",
            "177/177 [==============================] - 1s 7ms/step - loss: 0.4367 - accuracy: 0.7851\n",
            "Epoch 79/200\n",
            "177/177 [==============================] - 1s 7ms/step - loss: 0.4341 - accuracy: 0.7938\n",
            "Epoch 80/200\n",
            "177/177 [==============================] - 1s 6ms/step - loss: 0.4390 - accuracy: 0.7902\n",
            "Epoch 81/200\n",
            "177/177 [==============================] - 1s 5ms/step - loss: 0.4335 - accuracy: 0.7973\n",
            "Epoch 82/200\n",
            "177/177 [==============================] - 1s 5ms/step - loss: 0.4367 - accuracy: 0.7965\n",
            "Epoch 83/200\n",
            "177/177 [==============================] - 1s 5ms/step - loss: 0.4361 - accuracy: 0.7920\n",
            "Epoch 84/200\n",
            "177/177 [==============================] - 1s 4ms/step - loss: 0.4337 - accuracy: 0.7890\n",
            "Epoch 85/200\n",
            "177/177 [==============================] - 1s 4ms/step - loss: 0.4322 - accuracy: 0.7925\n",
            "Epoch 86/200\n",
            "177/177 [==============================] - 1s 4ms/step - loss: 0.4329 - accuracy: 0.7950\n",
            "Epoch 87/200\n",
            "177/177 [==============================] - 1s 6ms/step - loss: 0.4348 - accuracy: 0.7956\n",
            "Epoch 88/200\n",
            "177/177 [==============================] - 1s 5ms/step - loss: 0.4326 - accuracy: 0.7956\n",
            "Epoch 89/200\n",
            "177/177 [==============================] - 1s 4ms/step - loss: 0.4353 - accuracy: 0.7915\n",
            "Epoch 90/200\n",
            "177/177 [==============================] - 1s 5ms/step - loss: 0.4324 - accuracy: 0.7934\n",
            "Epoch 91/200\n",
            "177/177 [==============================] - 1s 5ms/step - loss: 0.4317 - accuracy: 0.7959\n",
            "Epoch 92/200\n",
            "177/177 [==============================] - 1s 5ms/step - loss: 0.4324 - accuracy: 0.7954\n",
            "Epoch 93/200\n",
            "177/177 [==============================] - 1s 7ms/step - loss: 0.4340 - accuracy: 0.7909\n",
            "Epoch 94/200\n",
            "177/177 [==============================] - 1s 7ms/step - loss: 0.4346 - accuracy: 0.7865\n",
            "Epoch 95/200\n",
            "177/177 [==============================] - 1s 4ms/step - loss: 0.4349 - accuracy: 0.7915\n",
            "Epoch 96/200\n",
            "177/177 [==============================] - 1s 4ms/step - loss: 0.4291 - accuracy: 0.7970\n",
            "Epoch 97/200\n",
            "177/177 [==============================] - 1s 4ms/step - loss: 0.4301 - accuracy: 0.7913\n",
            "Epoch 98/200\n",
            "177/177 [==============================] - 1s 4ms/step - loss: 0.4312 - accuracy: 0.7957\n",
            "Epoch 99/200\n",
            "177/177 [==============================] - 1s 4ms/step - loss: 0.4308 - accuracy: 0.7956\n",
            "Epoch 100/200\n",
            "177/177 [==============================] - 1s 4ms/step - loss: 0.4325 - accuracy: 0.7938\n",
            "Epoch 101/200\n",
            "177/177 [==============================] - 1s 4ms/step - loss: 0.4387 - accuracy: 0.7936\n",
            "Epoch 102/200\n",
            "177/177 [==============================] - 1s 4ms/step - loss: 0.4308 - accuracy: 0.7965\n",
            "Epoch 103/200\n",
            "177/177 [==============================] - 1s 4ms/step - loss: 0.4307 - accuracy: 0.7927\n",
            "Epoch 104/200\n",
            "177/177 [==============================] - 1s 4ms/step - loss: 0.4299 - accuracy: 0.7972\n",
            "Epoch 105/200\n",
            "177/177 [==============================] - 1s 5ms/step - loss: 0.4300 - accuracy: 0.7961\n",
            "Epoch 106/200\n",
            "177/177 [==============================] - 1s 5ms/step - loss: 0.4289 - accuracy: 0.7929\n",
            "Epoch 107/200\n",
            "177/177 [==============================] - 1s 4ms/step - loss: 0.4310 - accuracy: 0.7956\n",
            "Epoch 108/200\n",
            "177/177 [==============================] - 1s 7ms/step - loss: 0.4289 - accuracy: 0.7938\n",
            "Epoch 109/200\n",
            "177/177 [==============================] - 1s 7ms/step - loss: 0.4307 - accuracy: 0.7970\n",
            "Epoch 110/200\n",
            "177/177 [==============================] - 1s 6ms/step - loss: 0.4301 - accuracy: 0.7922\n",
            "Epoch 111/200\n",
            "177/177 [==============================] - 1s 4ms/step - loss: 0.4275 - accuracy: 0.7940\n",
            "Epoch 112/200\n",
            "177/177 [==============================] - 1s 4ms/step - loss: 0.4274 - accuracy: 0.7972\n",
            "Epoch 113/200\n",
            "177/177 [==============================] - 1s 4ms/step - loss: 0.4310 - accuracy: 0.7947\n",
            "Epoch 114/200\n",
            "177/177 [==============================] - 1s 5ms/step - loss: 0.4342 - accuracy: 0.7950\n",
            "Epoch 115/200\n",
            "177/177 [==============================] - 1s 4ms/step - loss: 0.4289 - accuracy: 0.7940\n",
            "Epoch 116/200\n",
            "177/177 [==============================] - 1s 4ms/step - loss: 0.4249 - accuracy: 0.8004\n",
            "Epoch 117/200\n",
            "177/177 [==============================] - 1s 5ms/step - loss: 0.4291 - accuracy: 0.7989\n",
            "Epoch 118/200\n",
            "177/177 [==============================] - 1s 4ms/step - loss: 0.4287 - accuracy: 0.7954\n",
            "Epoch 119/200\n",
            "177/177 [==============================] - 1s 4ms/step - loss: 0.4295 - accuracy: 0.7945\n",
            "Epoch 120/200\n",
            "177/177 [==============================] - 1s 4ms/step - loss: 0.4296 - accuracy: 0.8007\n",
            "Epoch 121/200\n",
            "177/177 [==============================] - 1s 4ms/step - loss: 0.4311 - accuracy: 0.7950\n",
            "Epoch 122/200\n",
            "177/177 [==============================] - 1s 4ms/step - loss: 0.4276 - accuracy: 0.7986\n",
            "Epoch 123/200\n",
            "177/177 [==============================] - 1s 6ms/step - loss: 0.4273 - accuracy: 0.7980\n",
            "Epoch 124/200\n",
            "177/177 [==============================] - 1s 7ms/step - loss: 0.4295 - accuracy: 0.7947\n",
            "Epoch 125/200\n",
            "177/177 [==============================] - 1s 6ms/step - loss: 0.4270 - accuracy: 0.8032\n",
            "Epoch 126/200\n",
            "177/177 [==============================] - 1s 4ms/step - loss: 0.4265 - accuracy: 0.7970\n",
            "Epoch 127/200\n",
            "177/177 [==============================] - 1s 4ms/step - loss: 0.4286 - accuracy: 0.7950\n",
            "Epoch 128/200\n",
            "177/177 [==============================] - 1s 4ms/step - loss: 0.4250 - accuracy: 0.7977\n",
            "Epoch 129/200\n",
            "177/177 [==============================] - 1s 4ms/step - loss: 0.4255 - accuracy: 0.7959\n",
            "Epoch 130/200\n",
            "177/177 [==============================] - 1s 4ms/step - loss: 0.4280 - accuracy: 0.7970\n",
            "Epoch 131/200\n",
            "177/177 [==============================] - 1s 4ms/step - loss: 0.4272 - accuracy: 0.7945\n",
            "Epoch 132/200\n",
            "177/177 [==============================] - 1s 4ms/step - loss: 0.4261 - accuracy: 0.7945\n",
            "Epoch 133/200\n",
            "177/177 [==============================] - 1s 4ms/step - loss: 0.4271 - accuracy: 0.7975\n",
            "Epoch 134/200\n",
            "177/177 [==============================] - 1s 4ms/step - loss: 0.4274 - accuracy: 0.7980\n",
            "Epoch 135/200\n",
            "177/177 [==============================] - 1s 4ms/step - loss: 0.4264 - accuracy: 0.7945\n",
            "Epoch 136/200\n",
            "177/177 [==============================] - 1s 4ms/step - loss: 0.4267 - accuracy: 0.7977\n",
            "Epoch 137/200\n",
            "177/177 [==============================] - 1s 4ms/step - loss: 0.4261 - accuracy: 0.7972\n",
            "Epoch 138/200\n",
            "177/177 [==============================] - 1s 6ms/step - loss: 0.4290 - accuracy: 0.7991\n",
            "Epoch 139/200\n",
            "177/177 [==============================] - 1s 7ms/step - loss: 0.4249 - accuracy: 0.7956\n",
            "Epoch 140/200\n",
            "177/177 [==============================] - 1s 7ms/step - loss: 0.4267 - accuracy: 0.7963\n",
            "Epoch 141/200\n",
            "177/177 [==============================] - 1s 4ms/step - loss: 0.4274 - accuracy: 0.7970\n",
            "Epoch 142/200\n",
            "177/177 [==============================] - 1s 4ms/step - loss: 0.4259 - accuracy: 0.8018\n",
            "Epoch 143/200\n",
            "177/177 [==============================] - 1s 4ms/step - loss: 0.4277 - accuracy: 0.7959\n",
            "Epoch 144/200\n",
            "177/177 [==============================] - 2s 9ms/step - loss: 0.4233 - accuracy: 0.7972\n",
            "Epoch 145/200\n",
            "177/177 [==============================] - 1s 8ms/step - loss: 0.4240 - accuracy: 0.7956\n",
            "Epoch 146/200\n",
            "177/177 [==============================] - 1s 6ms/step - loss: 0.4229 - accuracy: 0.7989\n",
            "Epoch 147/200\n",
            "177/177 [==============================] - 1s 6ms/step - loss: 0.4278 - accuracy: 0.7959\n",
            "Epoch 148/200\n",
            "177/177 [==============================] - 1s 6ms/step - loss: 0.4397 - accuracy: 0.7883\n",
            "Epoch 149/200\n",
            "177/177 [==============================] - 1s 6ms/step - loss: 0.4280 - accuracy: 0.7950\n",
            "Epoch 150/200\n",
            "177/177 [==============================] - 2s 10ms/step - loss: 0.4234 - accuracy: 0.8000\n",
            "Epoch 151/200\n",
            "177/177 [==============================] - 2s 9ms/step - loss: 0.4284 - accuracy: 0.7989\n",
            "Epoch 152/200\n",
            "177/177 [==============================] - 1s 7ms/step - loss: 0.4278 - accuracy: 0.7945\n",
            "Epoch 153/200\n",
            "177/177 [==============================] - 1s 5ms/step - loss: 0.4263 - accuracy: 0.7972\n",
            "Epoch 154/200\n",
            "177/177 [==============================] - 1s 5ms/step - loss: 0.4251 - accuracy: 0.8027\n",
            "Epoch 155/200\n",
            "177/177 [==============================] - 1s 4ms/step - loss: 0.4257 - accuracy: 0.7924\n",
            "Epoch 156/200\n",
            "177/177 [==============================] - 1s 4ms/step - loss: 0.4257 - accuracy: 0.7995\n",
            "Epoch 157/200\n",
            "177/177 [==============================] - 1s 4ms/step - loss: 0.4244 - accuracy: 0.7979\n",
            "Epoch 158/200\n",
            "177/177 [==============================] - 1s 4ms/step - loss: 0.4245 - accuracy: 0.7980\n",
            "Epoch 159/200\n",
            "177/177 [==============================] - 1s 5ms/step - loss: 0.4243 - accuracy: 0.7980\n",
            "Epoch 160/200\n",
            "177/177 [==============================] - 1s 5ms/step - loss: 0.4241 - accuracy: 0.8002\n",
            "Epoch 161/200\n",
            "177/177 [==============================] - 1s 5ms/step - loss: 0.4266 - accuracy: 0.7947\n",
            "Epoch 162/200\n",
            "177/177 [==============================] - 1s 4ms/step - loss: 0.4262 - accuracy: 0.7924\n",
            "Epoch 163/200\n",
            "177/177 [==============================] - 1s 5ms/step - loss: 0.4249 - accuracy: 0.7934\n",
            "Epoch 164/200\n",
            "177/177 [==============================] - 1s 4ms/step - loss: 0.4244 - accuracy: 0.7980\n",
            "Epoch 165/200\n",
            "177/177 [==============================] - 1s 4ms/step - loss: 0.4249 - accuracy: 0.7973\n",
            "Epoch 166/200\n",
            "177/177 [==============================] - 1s 7ms/step - loss: 0.4263 - accuracy: 0.7957\n",
            "Epoch 167/200\n",
            "177/177 [==============================] - 1s 7ms/step - loss: 0.4264 - accuracy: 0.7980\n",
            "Epoch 168/200\n",
            "177/177 [==============================] - 1s 5ms/step - loss: 0.4258 - accuracy: 0.7980\n",
            "Epoch 169/200\n",
            "177/177 [==============================] - 1s 4ms/step - loss: 0.4259 - accuracy: 0.7949\n",
            "Epoch 170/200\n",
            "177/177 [==============================] - 1s 5ms/step - loss: 0.4283 - accuracy: 0.7970\n",
            "Epoch 171/200\n",
            "177/177 [==============================] - 1s 5ms/step - loss: 0.4235 - accuracy: 0.7991\n",
            "Epoch 172/200\n",
            "177/177 [==============================] - 1s 5ms/step - loss: 0.4242 - accuracy: 0.7980\n",
            "Epoch 173/200\n",
            "177/177 [==============================] - 1s 4ms/step - loss: 0.4242 - accuracy: 0.7947\n",
            "Epoch 174/200\n",
            "177/177 [==============================] - 1s 4ms/step - loss: 0.4236 - accuracy: 0.7968\n",
            "Epoch 175/200\n",
            "177/177 [==============================] - 1s 4ms/step - loss: 0.4270 - accuracy: 0.7956\n",
            "Epoch 176/200\n",
            "177/177 [==============================] - 1s 5ms/step - loss: 0.4232 - accuracy: 0.8002\n",
            "Epoch 177/200\n",
            "177/177 [==============================] - 1s 5ms/step - loss: 0.4227 - accuracy: 0.8005\n",
            "Epoch 178/200\n",
            "177/177 [==============================] - 1s 4ms/step - loss: 0.4221 - accuracy: 0.8004\n",
            "Epoch 179/200\n",
            "177/177 [==============================] - 1s 5ms/step - loss: 0.4232 - accuracy: 0.7980\n",
            "Epoch 180/200\n",
            "177/177 [==============================] - 1s 5ms/step - loss: 0.4226 - accuracy: 0.7970\n",
            "Epoch 181/200\n",
            "177/177 [==============================] - 1s 7ms/step - loss: 0.4242 - accuracy: 0.7957\n",
            "Epoch 182/200\n",
            "177/177 [==============================] - 1s 7ms/step - loss: 0.4232 - accuracy: 0.7982\n",
            "Epoch 183/200\n",
            "177/177 [==============================] - 1s 5ms/step - loss: 0.4242 - accuracy: 0.7998\n",
            "Epoch 184/200\n",
            "177/177 [==============================] - 1s 4ms/step - loss: 0.4234 - accuracy: 0.7961\n",
            "Epoch 185/200\n",
            "177/177 [==============================] - 1s 5ms/step - loss: 0.4213 - accuracy: 0.8025\n",
            "Epoch 186/200\n",
            "177/177 [==============================] - 1s 5ms/step - loss: 0.4210 - accuracy: 0.7968\n",
            "Epoch 187/200\n",
            "177/177 [==============================] - 1s 5ms/step - loss: 0.4214 - accuracy: 0.7982\n",
            "Epoch 188/200\n",
            "177/177 [==============================] - 1s 5ms/step - loss: 0.4218 - accuracy: 0.8004\n",
            "Epoch 189/200\n",
            "177/177 [==============================] - 1s 5ms/step - loss: 0.4196 - accuracy: 0.7982\n",
            "Epoch 190/200\n",
            "177/177 [==============================] - 1s 5ms/step - loss: 0.4222 - accuracy: 0.8048\n",
            "Epoch 191/200\n",
            "177/177 [==============================] - 1s 5ms/step - loss: 0.4222 - accuracy: 0.7965\n",
            "Epoch 192/200\n",
            "177/177 [==============================] - 1s 5ms/step - loss: 0.4213 - accuracy: 0.7966\n",
            "Epoch 193/200\n",
            "177/177 [==============================] - 1s 5ms/step - loss: 0.4235 - accuracy: 0.7965\n",
            "Epoch 194/200\n",
            "177/177 [==============================] - 1s 5ms/step - loss: 0.4205 - accuracy: 0.7975\n",
            "Epoch 195/200\n",
            "177/177 [==============================] - 1s 7ms/step - loss: 0.4177 - accuracy: 0.8009\n",
            "Epoch 196/200\n",
            "177/177 [==============================] - 1s 7ms/step - loss: 0.4233 - accuracy: 0.7965\n",
            "Epoch 197/200\n",
            "177/177 [==============================] - 1s 6ms/step - loss: 0.4186 - accuracy: 0.8009\n",
            "Epoch 198/200\n",
            "177/177 [==============================] - 1s 5ms/step - loss: 0.4205 - accuracy: 0.8014\n",
            "Epoch 199/200\n",
            "177/177 [==============================] - 1s 5ms/step - loss: 0.4225 - accuracy: 0.7995\n",
            "Epoch 200/200\n",
            "177/177 [==============================] - 1s 5ms/step - loss: 0.4219 - accuracy: 0.8011\n"
          ]
        },
        {
          "output_type": "execute_result",
          "data": {
            "text/plain": [
              "<keras.src.callbacks.History at 0x79fe21661f00>"
            ]
          },
          "metadata": {},
          "execution_count": 39
        }
      ]
    },
    {
      "cell_type": "markdown",
      "source": [
        "**Fit, Predict and Evaluate**"
      ],
      "metadata": {
        "id": "9YFxOenUWFvS"
      }
    },
    {
      "cell_type": "code",
      "source": [
        "y_hat = model.predict(X_test)\n",
        "y_hat = [0 if val < 0.5 else 1 for val in y_hat]"
      ],
      "metadata": {
        "colab": {
          "base_uri": "https://localhost:8080/"
        },
        "id": "a67ToPmsWJZl",
        "outputId": "3f3355da-714a-4727-8f8e-232d8ca50f4d"
      },
      "execution_count": null,
      "outputs": [
        {
          "output_type": "stream",
          "name": "stdout",
          "text": [
            "45/45 [==============================] - 0s 2ms/step\n"
          ]
        }
      ]
    },
    {
      "cell_type": "code",
      "source": [
        "print(\"Accuracy:\", accuracy_score(y_test, y_hat))"
      ],
      "metadata": {
        "colab": {
          "base_uri": "https://localhost:8080/"
        },
        "id": "YuCmLRs_aOyA",
        "outputId": "a56fd796-6aaa-4daf-ba95-a8d4bddd4ee0"
      },
      "execution_count": null,
      "outputs": [
        {
          "output_type": "stream",
          "name": "stdout",
          "text": [
            "Accuracy: 0.7984386089425124\n"
          ]
        }
      ]
    }
  ]
}